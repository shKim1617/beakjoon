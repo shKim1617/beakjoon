{
 "cells": [
  {
   "cell_type": "code",
   "execution_count": 1,
   "metadata": {},
   "outputs": [
    {
     "ename": "SyntaxError",
     "evalue": "incomplete input (1625547700.py, line 3)",
     "output_type": "error",
     "traceback": [
      "\u001b[1;36m  Cell \u001b[1;32mIn[1], line 3\u001b[1;36m\u001b[0m\n\u001b[1;33m    while n > 0:\u001b[0m\n\u001b[1;37m                ^\u001b[0m\n\u001b[1;31mSyntaxError\u001b[0m\u001b[1;31m:\u001b[0m incomplete input\n"
     ]
    }
   ],
   "source": [
    "n = 18\n",
    "count = 0\n",
    "\n",
    "while n >= 3:\n",
    "    if n >= 5:\n",
    "        count += n // 5\n",
    "\n",
    "# 이거 이렇게 하면 답이 안나옴        "
   ]
  },
  {
   "cell_type": "code",
   "execution_count": 12,
   "metadata": {},
   "outputs": [
    {
     "name": "stdout",
     "output_type": "stream",
     "text": [
      "3\n"
     ]
    }
   ],
   "source": [
    "n = int(input())\n",
    "a_max, b_max = n // 5, n // 3\n",
    "a, b = a_max, b_max\n",
    "flag = True\n",
    "\n",
    "while a >= 0:\n",
    "    if flag == False:\n",
    "        break\n",
    "    while b >= 0:\n",
    "        if n == 5*a + 3*b:\n",
    "            print(a+b)\n",
    "            flag = False\n",
    "            break\n",
    "        else:\n",
    "            b -= 1\n",
    "    a -= 1\n",
    "    b = b_max\n",
    "    \n",
    "if flag:\n",
    "    print(-1)"
   ]
  }
 ],
 "metadata": {
  "kernelspec": {
   "display_name": "base",
   "language": "python",
   "name": "python3"
  },
  "language_info": {
   "codemirror_mode": {
    "name": "ipython",
    "version": 3
   },
   "file_extension": ".py",
   "mimetype": "text/x-python",
   "name": "python",
   "nbconvert_exporter": "python",
   "pygments_lexer": "ipython3",
   "version": "3.11.5"
  }
 },
 "nbformat": 4,
 "nbformat_minor": 2
}
