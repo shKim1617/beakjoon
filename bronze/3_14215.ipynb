{
 "cells": [
  {
   "cell_type": "code",
   "execution_count": 9,
   "metadata": {},
   "outputs": [
    {
     "name": "stdout",
     "output_type": "stream",
     "text": [
      "[41, 64, 16]\n"
     ]
    }
   ],
   "source": [
    "abc = list(map(int, input().split()))\n",
    "\n",
    "print(abc)\n",
    "\n"
   ]
  },
  {
   "cell_type": "code",
   "execution_count": 10,
   "metadata": {},
   "outputs": [
    {
     "name": "stdout",
     "output_type": "stream",
     "text": [
      "113\n"
     ]
    }
   ],
   "source": [
    "abc.sort()\n",
    "a = abc[0]\n",
    "b = abc[1]\n",
    "c = abc[2]\n",
    "\n",
    "if a + b > c:\n",
    "    print(a+b+c)\n",
    "# elif a + b == c:\n",
    "#     print(a+b+c-1)\n",
    "else:\n",
    "    print((a+b) * 2 -1)"
   ]
  }
 ],
 "metadata": {
  "kernelspec": {
   "display_name": "base",
   "language": "python",
   "name": "python3"
  },
  "language_info": {
   "codemirror_mode": {
    "name": "ipython",
    "version": 3
   },
   "file_extension": ".py",
   "mimetype": "text/x-python",
   "name": "python",
   "nbconvert_exporter": "python",
   "pygments_lexer": "ipython3",
   "version": "3.11.5"
  }
 },
 "nbformat": 4,
 "nbformat_minor": 2
}
