{
 "cells": [
  {
   "cell_type": "code",
   "execution_count": 6,
   "metadata": {},
   "outputs": [
    {
     "name": "stdout",
     "output_type": "stream",
     "text": [
      "Equilateral\n",
      "Scalene\n",
      "Invalid\n",
      "Isosceles\n"
     ]
    }
   ],
   "source": [
    "while True:\n",
    "    triangle = []\n",
    "    triangle = list(map(int, input().split()))\n",
    "    \n",
    "    # print(triangle)\n",
    "    if triangle[0] == 0:\n",
    "        break\n",
    "    \n",
    "    triangle.sort()\n",
    "    \n",
    "    if triangle[0] + triangle[1] <= triangle[2]:\n",
    "        print(\"Invalid\")\n",
    "    elif triangle.count(triangle[0]) == 3:\n",
    "        print(\"Equilateral\")\n",
    "    elif triangle[0] == triangle[1] or triangle[1] == triangle[2]:\n",
    "        print(\"Isosceles\")\n",
    "    else:\n",
    "        print(\"Scalene\")"
   ]
  }
 ],
 "metadata": {
  "kernelspec": {
   "display_name": "base",
   "language": "python",
   "name": "python3"
  },
  "language_info": {
   "codemirror_mode": {
    "name": "ipython",
    "version": 3
   },
   "file_extension": ".py",
   "mimetype": "text/x-python",
   "name": "python",
   "nbconvert_exporter": "python",
   "pygments_lexer": "ipython3",
   "version": "3.11.5"
  }
 },
 "nbformat": 4,
 "nbformat_minor": 2
}
