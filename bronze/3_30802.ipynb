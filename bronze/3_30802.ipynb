{
 "cells": [
  {
   "cell_type": "code",
   "execution_count": 1,
   "metadata": {},
   "outputs": [],
   "source": [
    "n = int(input())\n",
    "s, m, l, xl, xxl, xxxl = map(int, input().split())\n",
    "t, p = map(int, input().split())\n"
   ]
  },
  {
   "cell_type": "code",
   "execution_count": 2,
   "metadata": {},
   "outputs": [
    {
     "name": "stdout",
     "output_type": "stream",
     "text": [
      "23\n",
      "3 1 4 1 5 9\n",
      "5 7\n"
     ]
    }
   ],
   "source": [
    "print(n)\n",
    "print(s, m, l, xl, xxl, xxxl)\n",
    "print(t, p)"
   ]
  },
  {
   "cell_type": "code",
   "execution_count": 6,
   "metadata": {},
   "outputs": [
    {
     "name": "stdout",
     "output_type": "stream",
     "text": [
      "1\n"
     ]
    }
   ],
   "source": [
    "if s != 0:\n",
    "    total_t = s // 5 + 1\n",
    "print(total_t)"
   ]
  },
  {
   "cell_type": "code",
   "execution_count": 8,
   "metadata": {},
   "outputs": [
    {
     "name": "stdout",
     "output_type": "stream",
     "text": [
      "[3, 1, 4, 1, 5, 9]\n"
     ]
    }
   ],
   "source": [
    "t_shirts = [s, m, l, xl, xxl, xxxl]\n",
    "print(t_shirts)"
   ]
  },
  {
   "cell_type": "code",
   "execution_count": 9,
   "metadata": {},
   "outputs": [
    {
     "name": "stdout",
     "output_type": "stream",
     "text": [
      "7\n"
     ]
    }
   ],
   "source": [
    "t_shirts = [s, m, l, xl, xxl, xxxl]\n",
    "\n",
    "total_t = 0\n",
    "for t_shirt in t_shirts:\n",
    "    total_t += t_shirt // t\n",
    "    if t_shirt % 5 != 0:\n",
    "        total_t += 1\n",
    "        \n",
    "print(total_t)"
   ]
  },
  {
   "cell_type": "code",
   "execution_count": 10,
   "metadata": {},
   "outputs": [
    {
     "name": "stdout",
     "output_type": "stream",
     "text": [
      "3 2\n"
     ]
    }
   ],
   "source": [
    "## 펜 계산\n",
    "bundle_p = n // p\n",
    "piece_p = n % p\n",
    "print(bundle_p, piece_p)"
   ]
  },
  {
   "cell_type": "code",
   "execution_count": null,
   "metadata": {},
   "outputs": [],
   "source": [
    "n = int(input())\n",
    "s, m, l, xl, xxl, xxxl = map(int, input().split())\n",
    "t, p = map(int, input().split())\n",
    "\n",
    "t_shirts = [s, m, l, xl, xxl, xxxl]\n",
    "\n",
    "total_t = 0\n",
    "for t_shirt in t_shirts:\n",
    "    total_t += t_shirt // t\n",
    "    if t_shirt % t != 0:\n",
    "        total_t += 1\n",
    "        \n",
    "print(total_t)\n",
    "\n",
    "## 펜 계산\n",
    "bundle_p = n // p\n",
    "piece_p = n % p\n",
    "print(bundle_p, piece_p)"
   ]
  }
 ],
 "metadata": {
  "kernelspec": {
   "display_name": "me",
   "language": "python",
   "name": "python3"
  },
  "language_info": {
   "codemirror_mode": {
    "name": "ipython",
    "version": 3
   },
   "file_extension": ".py",
   "mimetype": "text/x-python",
   "name": "python",
   "nbconvert_exporter": "python",
   "pygments_lexer": "ipython3",
   "version": "3.10.15"
  }
 },
 "nbformat": 4,
 "nbformat_minor": 2
}
