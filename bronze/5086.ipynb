{
 "cells": [
  {
   "cell_type": "code",
   "execution_count": 3,
   "metadata": {},
   "outputs": [
    {
     "name": "stdout",
     "output_type": "stream",
     "text": [
      "factor\n",
      "multiple\n",
      "neither\n"
     ]
    }
   ],
   "source": [
    "\n",
    "\n",
    "while True:\n",
    "    a, b = map(int, input().split())\n",
    "    if a == 0 and b == 0:\n",
    "        break\n",
    "    num = 0\n",
    "    n = 2\n",
    "\n",
    "    # 약수\n",
    "    if a < b:    \n",
    "        while num < b:\n",
    "            num = a * n\n",
    "            n += 1\n",
    "        if num == b:\n",
    "            print(\"factor\")\n",
    "            \n",
    "        else:\n",
    "            print(\"neither\")\n",
    "            \n",
    "        \n",
    "    else:\n",
    "        while a > num:\n",
    "            num = b * n\n",
    "            n += 1\n",
    "        if a == num:\n",
    "            print(\"multiple\")\n",
    "            \n",
    "        else:\n",
    "            print(\"neither\")\n",
    "            \n"
   ]
  }
 ],
 "metadata": {
  "kernelspec": {
   "display_name": "base",
   "language": "python",
   "name": "python3"
  },
  "language_info": {
   "codemirror_mode": {
    "name": "ipython",
    "version": 3
   },
   "file_extension": ".py",
   "mimetype": "text/x-python",
   "name": "python",
   "nbconvert_exporter": "python",
   "pygments_lexer": "ipython3",
   "version": "3.11.5"
  }
 },
 "nbformat": 4,
 "nbformat_minor": 2
}
