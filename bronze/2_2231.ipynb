{
 "cells": [
  {
   "cell_type": "code",
   "execution_count": null,
   "metadata": {},
   "outputs": [],
   "source": [
    "# 분해합"
   ]
  },
  {
   "cell_type": "code",
   "execution_count": 2,
   "metadata": {},
   "outputs": [
    {
     "name": "stdout",
     "output_type": "stream",
     "text": [
      "6\n"
     ]
    }
   ],
   "source": [
    "# 각 자릿수 구하는 거 부터\n",
    "a = 123\n",
    "total = 0\n",
    "while a >0:\n",
    "    rest = a % 10\n",
    "    a = a // 10\n",
    "    total = total + rest\n",
    "    \n",
    "print(total)"
   ]
  },
  {
   "cell_type": "code",
   "execution_count": 6,
   "metadata": {},
   "outputs": [],
   "source": [
    "n = input()\n",
    "\n"
   ]
  },
  {
   "cell_type": "code",
   "execution_count": 7,
   "metadata": {},
   "outputs": [
    {
     "name": "stdout",
     "output_type": "stream",
     "text": [
      "216\n"
     ]
    }
   ],
   "source": [
    "print(n)"
   ]
  },
  {
   "cell_type": "code",
   "execution_count": 13,
   "metadata": {},
   "outputs": [
    {
     "data": {
      "text/plain": [
       "100"
      ]
     },
     "execution_count": 13,
     "metadata": {},
     "output_type": "execute_result"
    }
   ],
   "source": [
    "10 ** (len(n)-1)\n",
    "\n",
    "# 현재 숫자 216의 경우 최소 100이 넘는 숫자부터 검사하는 건 알겠고\n",
    "# 조금 더 범위를 줄이면?\n",
    "# 100 + 27 = 127\n",
    "# 각 자릿술를 9로 생각하고 더한 값을 뺀다면 더 적은 범위의 검사가 가능하지 않겠나\n",
    "# 999 아님. 첫 자리가 다름.\n",
    "# 216 => 299를 빼고 생각해봐\n",
    "# 216 - 20 = 196 여기부터 아니겠나"
   ]
  },
  {
   "cell_type": "code",
   "execution_count": 16,
   "metadata": {},
   "outputs": [
    {
     "name": "stdout",
     "output_type": "stream",
     "text": [
      "196\n"
     ]
    }
   ],
   "source": [
    "length = len(n)\n",
    "\n",
    "start = int(n) - int(n[0]) - 9 * (length-1)\n",
    "\n",
    "print(start)"
   ]
  },
  {
   "cell_type": "code",
   "execution_count": 20,
   "metadata": {},
   "outputs": [
    {
     "name": "stdout",
     "output_type": "stream",
     "text": [
      "196, 16\n",
      "197, 17\n",
      "198, 18\n",
      "199, 19\n",
      "200, 2\n",
      "201, 3\n",
      "202, 4\n",
      "203, 5\n",
      "204, 6\n",
      "205, 7\n",
      "206, 8\n",
      "207, 9\n",
      "208, 10\n",
      "209, 11\n",
      "210, 3\n",
      "211, 4\n",
      "212, 5\n",
      "213, 6\n",
      "214, 7\n",
      "215, 8\n"
     ]
    }
   ],
   "source": [
    "for num in range(start, int(n)):\n",
    "    print(num, end=\", \")\n",
    "    total = 0\n",
    "    while num >0:\n",
    "        rest = num % 10\n",
    "        num = num // 10\n",
    "        total = total + rest\n",
    "    print(total)\n",
    "        \n",
    "    if int(n) == num + total:\n",
    "        print(num)\n",
    "        break"
   ]
  },
  {
   "cell_type": "code",
   "execution_count": 28,
   "metadata": {},
   "outputs": [
    {
     "name": "stdout",
     "output_type": "stream",
     "text": [
      "1\n"
     ]
    }
   ],
   "source": [
    "n = input()\n",
    "\n",
    "length = len(n)\n",
    "\n",
    "start = int(n) - int(n[0]) - 9 * (length-1)\n",
    "\n",
    "for num in range(start, int(n)):\n",
    "    #print(num, end=\", \")\n",
    "    origin = num\n",
    "    total = 0\n",
    "    while num >0:\n",
    "        rest = num % 10\n",
    "        num = num // 10\n",
    "        total = total + rest\n",
    "    #print(total)\n",
    "        \n",
    "    if int(n) == origin + total:\n",
    "        print(origin)\n",
    "        break\n",
    "    if origin == int(n) - 1:\n",
    "        print(0)"
   ]
  }
 ],
 "metadata": {
  "kernelspec": {
   "display_name": "base",
   "language": "python",
   "name": "python3"
  },
  "language_info": {
   "codemirror_mode": {
    "name": "ipython",
    "version": 3
   },
   "file_extension": ".py",
   "mimetype": "text/x-python",
   "name": "python",
   "nbconvert_exporter": "python",
   "pygments_lexer": "ipython3",
   "version": "3.11.5"
  }
 },
 "nbformat": 4,
 "nbformat_minor": 2
}
