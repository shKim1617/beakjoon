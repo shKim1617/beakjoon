{
 "cells": [
  {
   "cell_type": "code",
   "execution_count": 8,
   "metadata": {},
   "outputs": [
    {
     "name": "stdout",
     "output_type": "stream",
     "text": [
      "<class 'float'> 5.0\n"
     ]
    }
   ],
   "source": [
    "num = float(input())\n",
    "\n",
    "print(type(num), num)"
   ]
  },
  {
   "cell_type": "code",
   "execution_count": 9,
   "metadata": {},
   "outputs": [],
   "source": [
    "def is_even(int_n):\n",
    "    if int_n % 2 == 0:\n",
    "        return True\n",
    "    else:\n",
    "        return False\n",
    "\n"
   ]
  },
  {
   "cell_type": "code",
   "execution_count": 14,
   "metadata": {},
   "outputs": [
    {
     "name": "stdout",
     "output_type": "stream",
     "text": [
      "2/2\n",
      "<class 'int'> <class 'int'> <class 'int'>\n"
     ]
    }
   ],
   "source": [
    "import math\n",
    "\n",
    "# 현재 위치 또는 이전 줄을 나타냄\n",
    "n = (-1 + math.sqrt(1+8*num))/2\n",
    "\n",
    "if n % 1 == 0:\n",
    "    int_n = int(n)\n",
    "    if is_even(int_n):\n",
    "        print(f\"1/{int_n}\")\n",
    "    else:\n",
    "        print(f\"{int_n}/1\")\n",
    "    \n",
    "else:\n",
    "    \n",
    "    pre_n = int(n)\n",
    "    pre_num = int(pre_n*(pre_n + 1) / 2)\n",
    "    \n",
    "\n",
    "    count = int(num - pre_num - 1)\n",
    "    cur_n = pre_n + 1\n",
    "\n",
    "    if is_even(cur_n):\n",
    "        print(f\"{1+count}/{cur_n - count}\")\n",
    "    \n",
    "    else:\n",
    "        print(f\"{cur_n-count}/{1+count}\")\n",
    "        #print(type(count), type(pre_n), type(cur_n))"
   ]
  },
  {
   "cell_type": "code",
   "execution_count": 10,
   "metadata": {},
   "outputs": [
    {
     "data": {
      "text/plain": [
       "0.0"
      ]
     },
     "execution_count": 10,
     "metadata": {},
     "output_type": "execute_result"
    }
   ],
   "source": [
    "11.0 % 1\n"
   ]
  }
 ],
 "metadata": {
  "kernelspec": {
   "display_name": "base",
   "language": "python",
   "name": "python3"
  },
  "language_info": {
   "codemirror_mode": {
    "name": "ipython",
    "version": 3
   },
   "file_extension": ".py",
   "mimetype": "text/x-python",
   "name": "python",
   "nbconvert_exporter": "python",
   "pygments_lexer": "ipython3",
   "version": "3.11.5"
  }
 },
 "nbformat": 4,
 "nbformat_minor": 2
}
