{
 "cells": [
  {
   "cell_type": "code",
   "execution_count": null,
   "metadata": {},
   "outputs": [],
   "source": [
    "# 블랙잭"
   ]
  },
  {
   "cell_type": "code",
   "execution_count": null,
   "metadata": {},
   "outputs": [],
   "source": [
    "# 부분집합"
   ]
  },
  {
   "cell_type": "code",
   "execution_count": 2,
   "metadata": {},
   "outputs": [
    {
     "name": "stdout",
     "output_type": "stream",
     "text": [
      "[(1, 2, 3), (1, 2, 4), (1, 2, 5), (1, 3, 4), (1, 3, 5), (1, 4, 5), (2, 3, 4), (2, 3, 5), (2, 4, 5), (3, 4, 5)]\n"
     ]
    }
   ],
   "source": [
    "from itertools import combinations\n",
    "\n",
    "arr = [1,2,3,4,5]\n",
    "print(list(combinations(arr, 3)))"
   ]
  },
  {
   "cell_type": "code",
   "execution_count": 9,
   "metadata": {},
   "outputs": [
    {
     "name": "stdout",
     "output_type": "stream",
     "text": [
      "[[]]\n",
      "[[], [1]]\n",
      "[[], [1], [2]]\n",
      "[[], [1], [2], [1, 2]]\n",
      "[[], [1], [2], [1, 2], [3]]\n",
      "[[], [1], [2], [1, 2], [3], [1, 3]]\n",
      "[[], [1], [2], [1, 2], [3], [1, 3], [2, 3]]\n",
      "[[], [1], [2], [1, 2], [3], [1, 3], [2, 3], [1, 2, 3]]\n"
     ]
    }
   ],
   "source": [
    "arr = [1, 2, 3]\n",
    "subsets = [[]]\n",
    "\n",
    "for num in arr:\n",
    "    \n",
    "    size = len(subsets)\n",
    "    for y in range(size):\n",
    "        print(subsets)\n",
    "        subsets.append(subsets[y]+[num])\n",
    "        \n",
    "print(subsets)"
   ]
  },
  {
   "cell_type": "code",
   "execution_count": 22,
   "metadata": {},
   "outputs": [],
   "source": [
    "n, m = map(int, input().split())\n",
    "nums = list(map(int, input().split()))\n",
    "\n"
   ]
  },
  {
   "cell_type": "code",
   "execution_count": 23,
   "metadata": {},
   "outputs": [
    {
     "name": "stdout",
     "output_type": "stream",
     "text": [
      "10 500 [93, 181, 245, 214, 315, 36, 185, 138, 216, 295]\n"
     ]
    }
   ],
   "source": [
    "print(n, m, nums)"
   ]
  },
  {
   "cell_type": "code",
   "execution_count": 24,
   "metadata": {},
   "outputs": [],
   "source": [
    "from itertools import combinations\n",
    "\n",
    "subsets = list(combinations(nums, 3))\n",
    "\n"
   ]
  },
  {
   "cell_type": "code",
   "execution_count": 19,
   "metadata": {},
   "outputs": [
    {
     "data": {
      "text/plain": [
       "[(5, 6, 7),\n",
       " (5, 6, 8),\n",
       " (5, 6, 9),\n",
       " (5, 7, 8),\n",
       " (5, 7, 9),\n",
       " (5, 8, 9),\n",
       " (6, 7, 8),\n",
       " (6, 7, 9),\n",
       " (6, 8, 9),\n",
       " (7, 8, 9)]"
      ]
     },
     "execution_count": 19,
     "metadata": {},
     "output_type": "execute_result"
    }
   ],
   "source": [
    "subsets"
   ]
  },
  {
   "cell_type": "code",
   "execution_count": 25,
   "metadata": {},
   "outputs": [
    {
     "name": "stdout",
     "output_type": "stream",
     "text": [
      "497\n"
     ]
    }
   ],
   "source": [
    "total = 0\n",
    "\n",
    "for i in subsets:\n",
    "    temp = sum(i)\n",
    "    if temp > total and temp <= m:\n",
    "        total = temp\n",
    "    \n",
    "print(total)"
   ]
  }
 ],
 "metadata": {
  "kernelspec": {
   "display_name": "base",
   "language": "python",
   "name": "python3"
  },
  "language_info": {
   "codemirror_mode": {
    "name": "ipython",
    "version": 3
   },
   "file_extension": ".py",
   "mimetype": "text/x-python",
   "name": "python",
   "nbconvert_exporter": "python",
   "pygments_lexer": "ipython3",
   "version": "3.11.5"
  }
 },
 "nbformat": 4,
 "nbformat_minor": 2
}
