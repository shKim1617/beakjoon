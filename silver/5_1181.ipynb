{
 "cells": [
  {
   "cell_type": "code",
   "execution_count": 38,
   "metadata": {},
   "outputs": [
    {
     "name": "stdout",
     "output_type": "stream",
     "text": [
      "['but', 'i', 'wont', 'hesitate', 'no', 'more', 'no', 'more', 'it', 'cannot', 'wait', 'im', 'yours']\n"
     ]
    }
   ],
   "source": [
    "data = \"\"\"but\n",
    "i\n",
    "wont\n",
    "hesitate\n",
    "no\n",
    "more\n",
    "no\n",
    "more\n",
    "it\n",
    "cannot\n",
    "wait\n",
    "im\n",
    "yours\"\"\"\n",
    "data = data.splitlines()\n",
    "print(data)\n"
   ]
  },
  {
   "cell_type": "code",
   "execution_count": 39,
   "metadata": {},
   "outputs": [
    {
     "name": "stdout",
     "output_type": "stream",
     "text": [
      "['but', 'cannot', 'hesitate', 'i', 'im', 'it', 'more', 'no', 'wait', 'wont', 'yours']\n"
     ]
    }
   ],
   "source": [
    "# 중복을 먼저 죽이는 게 좋겠는데\n",
    "\n",
    "idx = []\n",
    "for word in data:\n",
    "    if data.count(word) >= 2:\n",
    "        data.remove(word)\n",
    "\n",
    "data.sort()\n",
    "print(data)"
   ]
  },
  {
   "cell_type": "code",
   "execution_count": 41,
   "metadata": {},
   "outputs": [
    {
     "name": "stdout",
     "output_type": "stream",
     "text": [
      "['i', 'im', 'it', 'no', 'but', 'more', 'wait', 'wont', 'yours', 'cannot', 'hesitate']\n"
     ]
    }
   ],
   "source": [
    "for i in range(len(data) - 1):\n",
    "    for j in range(len(data) - 1 - i):\n",
    "        if len(data[j]) > len(data[j+1]):\n",
    "            data[j], data[j+1] = data[j+1], data[j]\n",
    "            \n",
    "        if len(data[j]) == len(data[j+1]):\n",
    "            if data[j] > data[j+1]:\n",
    "                data[j], data[j+1] = data[j+1], data[j]\n",
    "\n",
    "print(data)"
   ]
  },
  {
   "cell_type": "code",
   "execution_count": 42,
   "metadata": {},
   "outputs": [
    {
     "data": {
      "text/plain": [
       "True"
      ]
     },
     "execution_count": 42,
     "metadata": {},
     "output_type": "execute_result"
    }
   ],
   "source": [
    "test = ['55', '444', '111']\n",
    "test[1] > test[2]"
   ]
  },
  {
   "cell_type": "code",
   "execution_count": 50,
   "metadata": {},
   "outputs": [
    {
     "name": "stdout",
     "output_type": "stream",
     "text": [
      "1\n",
      "2\n",
      "3\n",
      "4\n"
     ]
    }
   ],
   "source": [
    "# 통합\n",
    "# 시간초과라니..\n",
    "\n",
    "n = int(input())\n",
    "data = []\n",
    "for i in range(n):\n",
    "    data.append(input())\n",
    "    \n",
    "#print(data)\n",
    "\n",
    "idx = []\n",
    "for word in data:\n",
    "    if data.count(word) >= 2:\n",
    "        data.remove(word)\n",
    "\n",
    "# data.sort()\n",
    "# print(data)\n",
    "\n",
    "for i in range(len(data) - 1):\n",
    "    for j in range(len(data) - 1 - i):\n",
    "        if len(data[j]) > len(data[j+1]):\n",
    "            data[j], data[j+1] = data[j+1], data[j]\n",
    "            continue\n",
    "            \n",
    "        if len(data[j]) == len(data[j+1]):\n",
    "            if data[j] > data[j+1]:\n",
    "                data[j], data[j+1] = data[j+1], data[j]\n",
    "\n",
    "for word in data:\n",
    "    print(word)"
   ]
  },
  {
   "cell_type": "code",
   "execution_count": 61,
   "metadata": {},
   "outputs": [
    {
     "name": "stdout",
     "output_type": "stream",
     "text": [
      "['but', 'i', 'wont', 'hesitate', 'no', 'more', 'no', 'more', 'it', 'cannot', 'wait', 'im', 'yours']\n"
     ]
    }
   ],
   "source": [
    "data = \"\"\"but\n",
    "i\n",
    "wont\n",
    "hesitate\n",
    "no\n",
    "more\n",
    "no\n",
    "more\n",
    "it\n",
    "cannot\n",
    "wait\n",
    "im\n",
    "yours\"\"\"\n",
    "data = data.splitlines()\n",
    "print(data)\n"
   ]
  },
  {
   "cell_type": "code",
   "execution_count": 62,
   "metadata": {},
   "outputs": [
    {
     "name": "stdout",
     "output_type": "stream",
     "text": [
      "['hesitate', 'more', 'wont', 'cannot', 'i', 'it', 'wait', 'yours', 'but', 'im', 'no']\n"
     ]
    }
   ],
   "source": [
    "data.sort()\n",
    "set_data = list(set(data))\n",
    "print(set_data)"
   ]
  },
  {
   "cell_type": "code",
   "execution_count": 63,
   "metadata": {},
   "outputs": [
    {
     "name": "stdout",
     "output_type": "stream",
     "text": [
      "['i', 'it', 'im', 'no', 'but', 'more', 'wont', 'wait', 'yours', 'cannot', 'hesitate']\n"
     ]
    }
   ],
   "source": [
    "sorted_data = sorted(set_data, key=len)\n",
    "print(sorted_data)"
   ]
  },
  {
   "cell_type": "code",
   "execution_count": 73,
   "metadata": {},
   "outputs": [
    {
     "name": "stdout",
     "output_type": "stream",
     "text": [
      "['2', '3', '1']\n",
      "['1', '2', '3']\n",
      "['1', '2', '3']\n"
     ]
    }
   ],
   "source": [
    "# sort를 통했으니 기본 상태가 정렬이 된 상태에서 길이만 비교한다면?\n",
    "n = int(input())\n",
    "data = []\n",
    "for i in range(n):\n",
    "    data.append(input())\n",
    "    \n",
    "\n",
    "\n",
    "set_data = list(set(data))\n",
    "print(set_data)\n",
    "\n",
    "data.sort()\n",
    "print(data)\n",
    "\n",
    "sorted_data = sorted(set_data, key=lambda x:(len(x),x))\n",
    "print(sorted_data)"
   ]
  },
  {
   "cell_type": "code",
   "execution_count": 27,
   "metadata": {},
   "outputs": [
    {
     "name": "stdout",
     "output_type": "stream",
     "text": [
      "['but', 'i', 'wont', 'hesitate', 'no', 'more', 'no', 'more', 'it', 'cannot', 'wait', 'im', 'yours']\n",
      "\n",
      "pivot:  6 no\n",
      "['i', 'it', 'im', 'no', 'but', 'wont', 'hesitate', 'more', 'more', 'cannot', 'wait', 'yours']\n",
      "\n",
      "pivot:  1 it\n",
      "['i', 'im', 'it']\n",
      "\n",
      "pivot:  1 im\n",
      "['i', 'im']\n",
      "\n",
      "pivot:  4 more\n",
      "['but', 'more', 'wont', 'hesitate', 'cannot', 'wait', 'yours']\n",
      "\n",
      "pivot:  2 cannot\n",
      "['wont', 'wait', 'yours', 'cannot', 'hesitate']\n",
      "\n",
      "pivot:  1 wait\n",
      "['wait', 'wont', 'yours']\n",
      "\n",
      "pivot:  1 yours\n",
      "['wont', 'yours']\n",
      "\n",
      "['i', 'im', 'it', 'no', 'but', 'more', 'wait', 'wont', 'yours', 'cannot', 'hesitate']\n"
     ]
    }
   ],
   "source": [
    "# 위에꺼 작동은 잘 하는데 마음에 안든다.\n",
    "# 이거는 그냥 내장 함수로 해치운 건데..\n",
    "# 내가 정렬 공부를 해야지\n",
    "# sort 사용하지 말고\n",
    "# set도 쓰지말고!!\n",
    "\n",
    "data = \"\"\"but\n",
    "i\n",
    "wont\n",
    "hesitate\n",
    "no\n",
    "more\n",
    "no\n",
    "more\n",
    "it\n",
    "cannot\n",
    "wait\n",
    "im\n",
    "yours\"\"\"\n",
    "data = data.splitlines()\n",
    "print(data)\n",
    "print()\n",
    "\n",
    "def quick_sort(data):\n",
    "    if len(data) <= 1:\n",
    "        return data\n",
    "    \n",
    "    pivot = len(data)//2\n",
    "    \n",
    "    print(\"pivot: \", pivot, data[pivot])\n",
    "    left_arr, right_arr, pivot_arr = [], [], [data[pivot]]\n",
    "    \n",
    "    for word in data:\n",
    "        if len(data[pivot]) > len(word):\n",
    "            left_arr.append(word)\n",
    "        elif len(data[pivot]) < len(word):\n",
    "            right_arr.append(word)\n",
    "        else:\n",
    "            # 길이가 같다면 바로 크기 비교\n",
    "            # 음...\n",
    "            if data[pivot] < word:\n",
    "                right_arr.append(word)\n",
    "            elif data[pivot] > word:\n",
    "                left_arr.append(word)\n",
    "            else:\n",
    "                pass\n",
    "            \n",
    "    print(left_arr + pivot_arr + right_arr)\n",
    "    print()\n",
    "    \n",
    "    return quick_sort(left_arr) + pivot_arr + quick_sort(right_arr)\n",
    "    \n",
    "#set_data = list(set(data))\n",
    "sorted_data = quick_sort(data)\n",
    "print(sorted_data)"
   ]
  }
 ],
 "metadata": {
  "kernelspec": {
   "display_name": "base",
   "language": "python",
   "name": "python3"
  },
  "language_info": {
   "codemirror_mode": {
    "name": "ipython",
    "version": 3
   },
   "file_extension": ".py",
   "mimetype": "text/x-python",
   "name": "python",
   "nbconvert_exporter": "python",
   "pygments_lexer": "ipython3",
   "version": "3.11.5"
  }
 },
 "nbformat": 4,
 "nbformat_minor": 2
}
