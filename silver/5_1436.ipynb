{
 "cells": [
  {
   "cell_type": "markdown",
   "metadata": {},
   "source": [
    "이게 보면\n",
    "\n",
    "1, 666\n",
    "\n",
    "2, 1666\n",
    "\n",
    "3, 2666\n",
    "\n",
    ".\n",
    "\n",
    ".\n",
    "\n",
    "9, 8666\n",
    "\n",
    "10, 9666\n",
    "\n",
    "11, 10666\n",
    "\n",
    "19, 18666\n",
    "\n",
    "\n",
    "그러면\n",
    "\n",
    "6661은 어떻게 되는거임\n",
    "\n",
    "5666\n",
    "\n",
    "6660...6666....6669\n",
    "\n",
    "7666 여기로 넘어가네\n",
    "\n",
    "이게 규칙이 있나.\n",
    "\n",
    "무식하게 만들어볼까 일단."
   ]
  },
  {
   "cell_type": "code",
   "execution_count": 4,
   "metadata": {},
   "outputs": [],
   "source": [
    "n = 500\n"
   ]
  },
  {
   "cell_type": "code",
   "execution_count": 5,
   "metadata": {},
   "outputs": [
    {
     "name": "stdout",
     "output_type": "stream",
     "text": [
      "166699\n"
     ]
    }
   ],
   "source": [
    "count = 0\n",
    "num = 665\n",
    "\n",
    "while count < n:\n",
    "    num += 1\n",
    "    if \"666\" in str(num):\n",
    "        count += 1\n",
    "    \n",
    "    \n",
    "print(num)"
   ]
  }
 ],
 "metadata": {
  "kernelspec": {
   "display_name": "base",
   "language": "python",
   "name": "python3"
  },
  "language_info": {
   "codemirror_mode": {
    "name": "ipython",
    "version": 3
   },
   "file_extension": ".py",
   "mimetype": "text/x-python",
   "name": "python",
   "nbconvert_exporter": "python",
   "pygments_lexer": "ipython3",
   "version": "3.11.5"
  }
 },
 "nbformat": 4,
 "nbformat_minor": 2
}
