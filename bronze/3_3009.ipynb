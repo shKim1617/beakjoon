{
 "cells": [
  {
   "cell_type": "code",
   "execution_count": 15,
   "metadata": {},
   "outputs": [],
   "source": [
    "points_x = []\n",
    "points_y = []\n",
    "\n",
    "for i in range(3):\n",
    "    x, y = map(int, input().split())\n",
    "    points_x.append(x)\n",
    "    points_y.append(y)"
   ]
  },
  {
   "cell_type": "code",
   "execution_count": 16,
   "metadata": {},
   "outputs": [
    {
     "name": "stdout",
     "output_type": "stream",
     "text": [
      "[30, 10, 10]\n",
      "[20, 10, 20]\n"
     ]
    }
   ],
   "source": [
    "print(points_x)\n",
    "print(points_y)"
   ]
  },
  {
   "cell_type": "code",
   "execution_count": 17,
   "metadata": {},
   "outputs": [
    {
     "name": "stdout",
     "output_type": "stream",
     "text": [
      "30 10\n"
     ]
    }
   ],
   "source": [
    "for x in points_x:\n",
    "    num = points_x.count(x)\n",
    "    if num % 2 == 1:\n",
    "        print(x, end=\" \")\n",
    "        \n",
    "for y in points_y:\n",
    "    num = points_y.count(y)\n",
    "    if num % 2 == 1:\n",
    "        print(y)"
   ]
  }
 ],
 "metadata": {
  "kernelspec": {
   "display_name": "base",
   "language": "python",
   "name": "python3"
  },
  "language_info": {
   "codemirror_mode": {
    "name": "ipython",
    "version": 3
   },
   "file_extension": ".py",
   "mimetype": "text/x-python",
   "name": "python",
   "nbconvert_exporter": "python",
   "pygments_lexer": "ipython3",
   "version": "3.11.5"
  }
 },
 "nbformat": 4,
 "nbformat_minor": 2
}
