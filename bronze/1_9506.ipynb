{
 "cells": [
  {
   "cell_type": "code",
   "execution_count": 9,
   "metadata": {},
   "outputs": [
    {
     "name": "stdout",
     "output_type": "stream",
     "text": [
      "6 = 1 + 2 + 3\n",
      "12 is NOT perfect.\n",
      "28 = 1 + 2 + 4 + 7 + 14\n"
     ]
    }
   ],
   "source": [
    "num = int(input())\n",
    "\n",
    "while num != -1:\n",
    "    divisor_list = []\n",
    "\n",
    "    for i in range(1, int(num/2)+1):\n",
    "        #print(f\"half: {int(num/2)}\")\n",
    "        if num % i == 0:\n",
    "            divisor_list.append(i)\n",
    "            #print(divisor_list)\n",
    "    \n",
    "    if sum(divisor_list) == num:\n",
    "        print(f\"{num} = {divisor_list[0]}\", end=\"\")\n",
    "        for j in range(1, len(divisor_list)):\n",
    "            print(f\" + {divisor_list[j]}\", end=\"\")\n",
    "    else:\n",
    "        print(f\"{num} is NOT perfect.\", end=\"\")\n",
    "    print()\n",
    "\n",
    "    num = int(input())"
   ]
  },
  {
   "cell_type": "code",
   "execution_count": 2,
   "metadata": {},
   "outputs": [
    {
     "name": "stdout",
     "output_type": "stream",
     "text": [
      "6\n",
      "3\n"
     ]
    }
   ],
   "source": [
    "test = [1,2,3]\n",
    "print(sum(test))\n",
    "print(len(test))"
   ]
  }
 ],
 "metadata": {
  "kernelspec": {
   "display_name": "base",
   "language": "python",
   "name": "python3"
  },
  "language_info": {
   "codemirror_mode": {
    "name": "ipython",
    "version": 3
   },
   "file_extension": ".py",
   "mimetype": "text/x-python",
   "name": "python",
   "nbconvert_exporter": "python",
   "pygments_lexer": "ipython3",
   "version": "3.11.5"
  }
 },
 "nbformat": 4,
 "nbformat_minor": 2
}
