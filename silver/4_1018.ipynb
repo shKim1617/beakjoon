{
 "cells": [
  {
   "cell_type": "code",
   "execution_count": 1,
   "metadata": {},
   "outputs": [],
   "source": [
    "# 체스판 다시 칠하기"
   ]
  },
  {
   "cell_type": "code",
   "execution_count": 2,
   "metadata": {},
   "outputs": [
    {
     "ename": "ValueError",
     "evalue": "invalid literal for int() with base 10: ' '",
     "output_type": "error",
     "traceback": [
      "\u001b[1;31m---------------------------------------------------------------------------\u001b[0m",
      "\u001b[1;31mValueError\u001b[0m                                Traceback (most recent call last)",
      "Cell \u001b[1;32mIn[2], line 1\u001b[0m\n\u001b[1;32m----> 1\u001b[0m n, m \u001b[38;5;241m=\u001b[39m \u001b[38;5;28mmap\u001b[39m(\u001b[38;5;28mint\u001b[39m, \u001b[38;5;28minput\u001b[39m())\n\u001b[0;32m      3\u001b[0m matrix \u001b[38;5;241m=\u001b[39m []\n\u001b[0;32m      5\u001b[0m \u001b[38;5;28;01mfor\u001b[39;00m i \u001b[38;5;129;01min\u001b[39;00m \u001b[38;5;28mrange\u001b[39m(n):\n",
      "\u001b[1;31mValueError\u001b[0m: invalid literal for int() with base 10: ' '"
     ]
    }
   ],
   "source": [
    "n, m = map(int, input())\n",
    "\n",
    "matrix = []\n",
    "\n",
    "for i in range(n):\n",
    "    row = list(map(input().strip()))\n",
    "    matrix.append(row)\n",
    "\n"
   ]
  },
  {
   "cell_type": "code",
   "execution_count": 57,
   "metadata": {},
   "outputs": [],
   "source": [
    "data = \"\"\"8 8\n",
    "BWBWBWBW\n",
    "WBWBWBWB\n",
    "BWBWBWBW\n",
    "WBWBWBWB\n",
    "BWBWBWBW\n",
    "WBWBWBWB\n",
    "BWBWBWBW\n",
    "WBWBWBWB\"\"\""
   ]
  },
  {
   "cell_type": "code",
   "execution_count": 58,
   "metadata": {},
   "outputs": [
    {
     "data": {
      "text/plain": [
       "'8 8\\nBWBWBWBW\\nWBWBWBWB\\nBWBWBWBW\\nWBWBWBWB\\nBWBWBWBW\\nWBWBWBWB\\nBWBWBWBW\\nWBWBWBWB'"
      ]
     },
     "execution_count": 58,
     "metadata": {},
     "output_type": "execute_result"
    }
   ],
   "source": [
    "data"
   ]
  },
  {
   "cell_type": "code",
   "execution_count": 28,
   "metadata": {},
   "outputs": [],
   "source": [
    "data = data.splitlines()\n",
    "\n",
    "rows, cols = map(int, data[0].split())\n",
    "\n",
    "matrix = [list(line) for line in data[1:]]\n",
    "\n"
   ]
  },
  {
   "cell_type": "code",
   "execution_count": 29,
   "metadata": {},
   "outputs": [
    {
     "data": {
      "text/plain": [
       "(8,\n",
       " 8,\n",
       " [['B', 'W', 'B', 'W', 'B', 'W', 'B', 'W'],\n",
       "  ['W', 'B', 'W', 'B', 'W', 'B', 'W', 'B'],\n",
       "  ['B', 'W', 'B', 'W', 'B', 'W', 'B', 'W'],\n",
       "  ['W', 'B', 'W', 'B', 'W', 'B', 'W', 'B'],\n",
       "  ['B', 'W', 'B', 'W', 'B', 'W', 'B', 'W'],\n",
       "  ['W', 'B', 'W', 'B', 'W', 'B', 'W', 'B'],\n",
       "  ['B', 'W', 'B', 'W', 'B', 'W', 'B', 'W'],\n",
       "  ['W', 'B', 'W', 'B', 'W', 'B', 'W', 'B']])"
      ]
     },
     "execution_count": 29,
     "metadata": {},
     "output_type": "execute_result"
    }
   ],
   "source": [
    "rows, cols, matrix"
   ]
  },
  {
   "cell_type": "code",
   "execution_count": 30,
   "metadata": {},
   "outputs": [
    {
     "name": "stdout",
     "output_type": "stream",
     "text": [
      "['B', 'W', 'B', 'W', 'B', 'W', 'B', 'W']\n",
      "['W', 'B', 'W', 'B', 'W', 'B', 'W', 'B']\n",
      "['B', 'W', 'B', 'W', 'B', 'W', 'B', 'W']\n",
      "['W', 'B', 'W', 'B', 'W', 'B', 'W', 'B']\n",
      "['B', 'W', 'B', 'W', 'B', 'W', 'B', 'W']\n",
      "['W', 'B', 'W', 'B', 'W', 'B', 'W', 'B']\n",
      "['B', 'W', 'B', 'W', 'B', 'W', 'B', 'W']\n",
      "['W', 'B', 'W', 'B', 'W', 'B', 'W', 'B']\n"
     ]
    }
   ],
   "source": [
    "for i in range(8):\n",
    "    print(matrix[i][:8])"
   ]
  },
  {
   "cell_type": "code",
   "execution_count": 31,
   "metadata": {},
   "outputs": [
    {
     "data": {
      "text/plain": [
       "(1, 1)"
      ]
     },
     "execution_count": 31,
     "metadata": {},
     "output_type": "execute_result"
    }
   ],
   "source": [
    "n, m = 8, 8\n",
    "\n",
    "row_count, col_count = rows - n + 1, cols - m + 1\n",
    "\n",
    "row_count, col_count"
   ]
  },
  {
   "cell_type": "code",
   "execution_count": 32,
   "metadata": {},
   "outputs": [
    {
     "data": {
      "text/plain": [
       "0"
      ]
     },
     "execution_count": 32,
     "metadata": {},
     "output_type": "execute_result"
    }
   ],
   "source": [
    "2 % 2"
   ]
  },
  {
   "cell_type": "code",
   "execution_count": 33,
   "metadata": {},
   "outputs": [],
   "source": [
    "def examine(check_matrix):\n",
    "    count_w = 0\n",
    "    count_b = 0\n",
    "    flag_w = True\n",
    "    word = [\"W\", \"B\"]\n",
    "    \n",
    "    # c == 0\n",
    "    # word[0], word[1]\n",
    "    # c == 1\n",
    "    # c % 2 = 1, (c+1) % 2 = 0\n",
    "\n",
    "    \n",
    "    # 흰색 검사\n",
    "    for r in range(8):\n",
    "        print(\"flag: \", flag_w)\n",
    "        for c in range(8):\n",
    "            # 이거 첫 줄에 시작에 흰색 검사를 했다면\n",
    "            # 다음 줄은 검은색부터 검사해야함....\n",
    "            # 플래그 변경 위치가 잘못됨\n",
    "            # 한줄의 검사가 끝날 경우에만 변경해야함\n",
    "            if flag_w == True:\n",
    "                if check_matrix[r][c] == word[c%2]:\n",
    "\n",
    "                    print(\"w: \", r, c, check_matrix[r][c], word[c%2])\n",
    "                    count_b += 1\n",
    "                    print(\"count_b: \", count_b)\n",
    "                    print()\n",
    "                else:\n",
    "                    count_w += 1\n",
    "                \n",
    "            else:\n",
    "                if check_matrix[r][c] == word[(c+1)%2]:\n",
    "                    print(\"w: \", r, c, check_matrix[r][c], word[(c+1)%2])\n",
    "                    count_b += 1\n",
    "                    print(\"count_b: \", count_b)\n",
    "                    print()\n",
    "                else: \n",
    "                    count_w += 1\n",
    "        flag_w = not flag_w\n",
    "        \n",
    "    \n",
    "    print(count_w, count_b)\n",
    "    if count_w < count_b:\n",
    "        return count_w\n",
    "    else:\n",
    "        return count_b"
   ]
  },
  {
   "cell_type": "code",
   "execution_count": 34,
   "metadata": {},
   "outputs": [
    {
     "name": "stdout",
     "output_type": "stream",
     "text": [
      "flag:  True\n",
      "flag:  False\n",
      "flag:  True\n",
      "flag:  False\n",
      "flag:  True\n",
      "flag:  False\n",
      "flag:  True\n",
      "flag:  False\n",
      "64 0\n",
      "0\n"
     ]
    }
   ],
   "source": [
    "min_draw = 64\n",
    "\n",
    "for row in range(row_count):\n",
    "    for col in range(col_count):\n",
    "        \n",
    "        \n",
    "        check_matrix = [matrix[r][col:col+8] for r in range(row, row+8)]\n",
    "        #print(check_matrix)\n",
    "        # 두 가지 경우를 검사. 처음이 흰색, 검은색인 경우로 두 번 다 검사 진행\n",
    "        draw = examine(check_matrix)\n",
    "        # print(draw)\n",
    "        if min_draw > draw:\n",
    "            min_draw = draw\n",
    "            \n",
    "print(min_draw)"
   ]
  },
  {
   "cell_type": "code",
   "execution_count": 60,
   "metadata": {},
   "outputs": [],
   "source": [
    "rows, cols = map(int, input().split())\n",
    "\n",
    "data = \"\"\n",
    "for i in range(cols):\n",
    "    data = data +input() + \"\\n\"\n",
    "data = data.rstrip(\"\\n\")\n",
    "\n",
    "matrix = [list(line) for line in data]\n",
    "\n",
    "n, m = 8, 8\n",
    "\n",
    "row_count, col_count = rows - n + 1, cols - m + 1\n",
    "\n"
   ]
  },
  {
   "cell_type": "code",
   "execution_count": 70,
   "metadata": {},
   "outputs": [
    {
     "name": "stdout",
     "output_type": "stream",
     "text": [
      "WBWBWBWB\n",
      "BWBWBWBW\n",
      "WBWBWBWB\n",
      "BWBBBWBW\n",
      "WBWBWBWB\n",
      "BWBWBWBW\n",
      "WBWBWBWB\n",
      "BWBWBWBW\n",
      "8 8 1 1\n",
      "['WBWBWBWB', 'BWBWBWBW', 'WBWBWBWB', 'BWBBBWBW', 'WBWBWBWB', 'BWBWBWBW', 'WBWBWBWB', 'BWBWBWBW']\n",
      "[['W', 'B', 'W', 'B', 'W', 'B', 'W', 'B'], ['B', 'W', 'B', 'W', 'B', 'W', 'B', 'W'], ['W', 'B', 'W', 'B', 'W', 'B', 'W', 'B'], ['B', 'W', 'B', 'B', 'B', 'W', 'B', 'W'], ['W', 'B', 'W', 'B', 'W', 'B', 'W', 'B'], ['B', 'W', 'B', 'W', 'B', 'W', 'B', 'W'], ['W', 'B', 'W', 'B', 'W', 'B', 'W', 'B'], ['B', 'W', 'B', 'W', 'B', 'W', 'B', 'W']]\n",
      "['W', 'B', 'W', 'B', 'W', 'B', 'W', 'B']\n",
      "['B', 'W', 'B', 'W', 'B', 'W', 'B', 'W']\n",
      "['W', 'B', 'W', 'B', 'W', 'B', 'W', 'B']\n",
      "['B', 'W', 'B', 'B', 'B', 'W', 'B', 'W']\n",
      "['W', 'B', 'W', 'B', 'W', 'B', 'W', 'B']\n",
      "['B', 'W', 'B', 'W', 'B', 'W', 'B', 'W']\n",
      "['W', 'B', 'W', 'B', 'W', 'B', 'W', 'B']\n",
      "['B', 'W', 'B', 'W', 'B', 'W', 'B', 'W']\n",
      "B\n"
     ]
    }
   ],
   "source": [
    "print(data)\n",
    "\n",
    "data = data.splitlines()\n",
    "matrix = [list(line) for line in data]\n",
    "\n",
    "n, m = 8, 8\n",
    "\n",
    "row_count, col_count = rows - n + 1, cols - m + 1\n",
    "print(rows, cols, row_count, col_count)\n",
    "print(data)\n",
    "print(matrix)\n",
    "for i in range(cols):\n",
    "    print(matrix[i])\n",
    "print(matrix[0][1])"
   ]
  },
  {
   "cell_type": "code",
   "execution_count": 65,
   "metadata": {},
   "outputs": [
    {
     "name": "stdout",
     "output_type": "stream",
     "text": [
      "8 8 1 1\n",
      "WBWBWBWB\n",
      "BWBWBWBW\n",
      "WBWBWBWB\n",
      "BWBBBWBW\n",
      "WBWBWBWB\n",
      "BWBWBWBW\n",
      "WBWBWBWB\n",
      "BWBWBWBW\n",
      "[['W'], ['B'], ['W'], ['B'], ['W'], ['B'], ['W'], ['B'], ['\\n'], ['B'], ['W'], ['B'], ['W'], ['B'], ['W'], ['B'], ['W'], ['\\n'], ['W'], ['B'], ['W'], ['B'], ['W'], ['B'], ['W'], ['B'], ['\\n'], ['B'], ['W'], ['B'], ['B'], ['B'], ['W'], ['B'], ['W'], ['\\n'], ['W'], ['B'], ['W'], ['B'], ['W'], ['B'], ['W'], ['B'], ['\\n'], ['B'], ['W'], ['B'], ['W'], ['B'], ['W'], ['B'], ['W'], ['\\n'], ['W'], ['B'], ['W'], ['B'], ['W'], ['B'], ['W'], ['B'], ['\\n'], ['B'], ['W'], ['B'], ['W'], ['B'], ['W'], ['B'], ['W']]\n",
      "['W']\n",
      "['B']\n",
      "['W']\n",
      "['B']\n",
      "['W']\n",
      "['B']\n",
      "['W']\n",
      "['B']\n"
     ]
    },
    {
     "ename": "IndexError",
     "evalue": "list index out of range",
     "output_type": "error",
     "traceback": [
      "\u001b[1;31m---------------------------------------------------------------------------\u001b[0m",
      "\u001b[1;31mIndexError\u001b[0m                                Traceback (most recent call last)",
      "Cell \u001b[1;32mIn[65], line 6\u001b[0m\n\u001b[0;32m      4\u001b[0m \u001b[38;5;28;01mfor\u001b[39;00m i \u001b[38;5;129;01min\u001b[39;00m \u001b[38;5;28mrange\u001b[39m(cols):\n\u001b[0;32m      5\u001b[0m     \u001b[38;5;28mprint\u001b[39m(matrix[i])\n\u001b[1;32m----> 6\u001b[0m \u001b[38;5;28mprint\u001b[39m(matrix[\u001b[38;5;241m0\u001b[39m][\u001b[38;5;241m1\u001b[39m])\n",
      "\u001b[1;31mIndexError\u001b[0m: list index out of range"
     ]
    }
   ],
   "source": [
    "print(rows, cols, row_count, col_count)\n",
    "print(data)\n",
    "print(matrix)\n",
    "for i in range(cols):\n",
    "    print(matrix[i])\n",
    "print(matrix[0][1])"
   ]
  },
  {
   "cell_type": "code",
   "execution_count": 77,
   "metadata": {},
   "outputs": [],
   "source": [
    "data = \"\"\"BBBBBBBBBBBBBBBBBBBBBBB\n",
    "BBBBBBBBBBBBBBBBBBBBBBB\n",
    "BBBBBBBBBBBBBBBBBBBBBBB\n",
    "BBBBBBBBBBBBBBBBBBBBBBB\n",
    "BBBBBBBBBBBBBBBBBBBBBBB\n",
    "BBBBBBBBBBBBBBBBBBBBBBB\n",
    "BBBBBBBBBBBBBBBBBBBBBBB\n",
    "BBBBBBBBBBBBBBBBBBBBBBB\n",
    "BBBBBBBBBBBBBBBBBBBBBBW\"\"\""
   ]
  },
  {
   "cell_type": "code",
   "execution_count": 80,
   "metadata": {},
   "outputs": [
    {
     "name": "stdout",
     "output_type": "stream",
     "text": [
      "31\n"
     ]
    }
   ],
   "source": [
    "rows, cols = map(int, input().split())\n",
    "\n",
    "data = \"\"\n",
    "for i in range(rows):\n",
    "    data = data +input() + \"\\n\"\n",
    "data = data.rstrip(\"\\n\").splitlines()\n",
    "\n",
    "matrix = [list(line) for line in data]\n",
    "\n",
    "n, m = 8, 8\n",
    "\n",
    "row_count, col_count = rows - n + 1, cols - m + 1\n",
    "\n",
    "\n",
    "def examine(check_matrix):\n",
    "    count_w = 0\n",
    "    count_b = 0\n",
    "    flag_w = True\n",
    "    word = [\"W\", \"B\"]\n",
    "   \n",
    "    # 흰색 검사\n",
    "    for r in range(8):\n",
    "        for c in range(8):\n",
    "            if flag_w == True:\n",
    "                if check_matrix[r][c] == word[c%2]:\n",
    "                    count_b += 1                   \n",
    "                else:\n",
    "                    count_w += 1                \n",
    "            else:\n",
    "                if check_matrix[r][c] == word[(c+1)%2]:                    \n",
    "                    count_b += 1\n",
    "                else: \n",
    "                    count_w += 1\n",
    "        flag_w = not flag_w\n",
    "        \n",
    "    \n",
    "    #print(count_w, count_b)\n",
    "    if count_w < count_b:\n",
    "        return count_w\n",
    "    else:\n",
    "        return count_b\n",
    "    \n",
    "min_draw = 64\n",
    "\n",
    "for row in range(row_count):\n",
    "    for col in range(col_count):\n",
    "        \n",
    "        \n",
    "        check_matrix = [matrix[r][col:col+8] for r in range(row, row+8)]\n",
    "        #print(check_matrix)\n",
    "        # 두 가지 경우를 검사. 처음이 흰색, 검은색인 경우로 두 번 다 검사 진행\n",
    "        draw = examine(check_matrix)\n",
    "        # print(draw)\n",
    "        if min_draw > draw:\n",
    "            min_draw = draw\n",
    "            \n",
    "print(min_draw)"
   ]
  }
 ],
 "metadata": {
  "kernelspec": {
   "display_name": "base",
   "language": "python",
   "name": "python3"
  },
  "language_info": {
   "codemirror_mode": {
    "name": "ipython",
    "version": 3
   },
   "file_extension": ".py",
   "mimetype": "text/x-python",
   "name": "python",
   "nbconvert_exporter": "python",
   "pygments_lexer": "ipython3",
   "version": "3.11.5"
  }
 },
 "nbformat": 4,
 "nbformat_minor": 2
}
